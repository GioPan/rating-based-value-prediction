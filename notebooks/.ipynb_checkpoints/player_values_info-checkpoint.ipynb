{
 "cells": [
  {
   "cell_type": "markdown",
   "id": "eef4ac68",
   "metadata": {},
   "source": [
    "# Player values\n",
    "In this notebook we explore the available player value data. They are stored in a dataframe in pickle format."
   ]
  },
  {
   "cell_type": "code",
   "execution_count": 1,
   "id": "e686a2cd",
   "metadata": {},
   "outputs": [],
   "source": [
    "import pandas as pd\n",
    "values = pd.read_pickle('../data/players_for_ratings_based_predictions.pkl')"
   ]
  },
  {
   "cell_type": "code",
   "execution_count": 2,
   "id": "476fb980",
   "metadata": {},
   "outputs": [
    {
     "name": "stdout",
     "output_type": "stream",
     "text": [
      "<class 'pandas.core.frame.DataFrame'>\n",
      "Int64Index: 9610 entries, 5665 to 160599\n",
      "Data columns (total 14 columns):\n",
      " #   Column         Non-Null Count  Dtype         \n",
      "---  ------         --------------  -----         \n",
      " 0   player_id      9610 non-null   int32         \n",
      " 1   player_name    9610 non-null   object        \n",
      " 2   player_role    9607 non-null   category      \n",
      " 3   birth          9610 non-null   datetime64[ns]\n",
      " 4   nationalities  9610 non-null   object        \n",
      " 5   height         9610 non-null   float64       \n",
      " 6   foot           9610 non-null   object        \n",
      " 7   value          9610 non-null   float64       \n",
      " 8   league         9610 non-null   object        \n",
      " 9   season         9610 non-null   int32         \n",
      " 10  value_at       9610 non-null   datetime64[ns]\n",
      " 11  nat1           9610 non-null   object        \n",
      " 12  nat2           9610 non-null   object        \n",
      " 13  age_years      9610 non-null   float64       \n",
      "dtypes: category(1), datetime64[ns](2), float64(3), int32(2), object(6)\n",
      "memory usage: 985.5+ KB\n"
     ]
    }
   ],
   "source": [
    "values.info()"
   ]
  },
  {
   "cell_type": "markdown",
   "id": "1ae59b89",
   "metadata": {},
   "source": [
    "Here is a little explanation of the data contained in the `values` data frame.\n",
    "- `player_id` is the TransferMarkt id of the player\n",
    "- `player_name`, `player_role`, `height`, `foot` are self-explanatory\n",
    "-  `birth` is their day of birth"
   ]
  },
  {
   "cell_type": "code",
   "execution_count": 7,
   "id": "8a002088",
   "metadata": {},
   "outputs": [
    {
     "name": "stderr",
     "output_type": "stream",
     "text": [
      "/var/folders/tw/m4_1qbzn2ybbmcwkchr6k6_c0000gp/T/ipykernel_2834/3604468148.py:1: FutureWarning: Treating datetime data as categorical rather than numeric in `.describe` is deprecated and will be removed in a future version of pandas. Specify `datetime_is_numeric=True` to silence this warning and adopt the future behavior now.\n",
      "  values['birth'].describe()\n"
     ]
    },
    {
     "data": {
      "text/plain": [
       "count                    9610\n",
       "unique                   2616\n",
       "top       1994-05-27 00:00:00\n",
       "freq                       22\n",
       "first     1977-01-02 00:00:00\n",
       "last      2001-08-16 00:00:00\n",
       "Name: birth, dtype: object"
      ]
     },
     "execution_count": 7,
     "metadata": {},
     "output_type": "execute_result"
    }
   ],
   "source": [
    "values['birth'].describe()"
   ]
  },
  {
   "cell_type": "markdown",
   "id": "daeb6b1c",
   "metadata": {},
   "source": [
    "- `nationalities` is a string that contains one or more nationalities of the player\n",
    "- `nat1` and `nat2` separate the possible multiple nationalities of the `nationalities` column"
   ]
  },
  {
   "cell_type": "code",
   "execution_count": 9,
   "id": "64181c47",
   "metadata": {},
   "outputs": [
    {
     "data": {
      "text/html": [
       "<div>\n",
       "<style scoped>\n",
       "    .dataframe tbody tr th:only-of-type {\n",
       "        vertical-align: middle;\n",
       "    }\n",
       "\n",
       "    .dataframe tbody tr th {\n",
       "        vertical-align: top;\n",
       "    }\n",
       "\n",
       "    .dataframe thead th {\n",
       "        text-align: right;\n",
       "    }\n",
       "</style>\n",
       "<table border=\"1\" class=\"dataframe\">\n",
       "  <thead>\n",
       "    <tr style=\"text-align: right;\">\n",
       "      <th></th>\n",
       "      <th>nationalities</th>\n",
       "      <th>nat1</th>\n",
       "      <th>nat2</th>\n",
       "    </tr>\n",
       "  </thead>\n",
       "  <tbody>\n",
       "    <tr>\n",
       "      <th>5665</th>\n",
       "      <td>Serbia</td>\n",
       "      <td>Serbia</td>\n",
       "      <td>-</td>\n",
       "    </tr>\n",
       "    <tr>\n",
       "      <th>5667</th>\n",
       "      <td>Portugal</td>\n",
       "      <td>Portugal</td>\n",
       "      <td>-</td>\n",
       "    </tr>\n",
       "    <tr>\n",
       "      <th>5671</th>\n",
       "      <td>Spain</td>\n",
       "      <td>Spain</td>\n",
       "      <td>-</td>\n",
       "    </tr>\n",
       "    <tr>\n",
       "      <th>5674</th>\n",
       "      <td>Argentina-Italy</td>\n",
       "      <td>Argentina</td>\n",
       "      <td>Italy</td>\n",
       "    </tr>\n",
       "    <tr>\n",
       "      <th>5676</th>\n",
       "      <td>Portugal-CapeVerde</td>\n",
       "      <td>Portugal</td>\n",
       "      <td>CapeVerde</td>\n",
       "    </tr>\n",
       "  </tbody>\n",
       "</table>\n",
       "</div>"
      ],
      "text/plain": [
       "           nationalities       nat1       nat2\n",
       "5665              Serbia     Serbia          -\n",
       "5667            Portugal   Portugal          -\n",
       "5671               Spain      Spain          -\n",
       "5674     Argentina-Italy  Argentina      Italy\n",
       "5676  Portugal-CapeVerde   Portugal  CapeVerde"
      ]
     },
     "execution_count": 9,
     "metadata": {},
     "output_type": "execute_result"
    }
   ],
   "source": [
    "values.loc[:,['nationalities','nat1','nat2']].head()"
   ]
  },
  {
   "cell_type": "markdown",
   "id": "b4964a19",
   "metadata": {},
   "source": [
    "- `value` contains the market value of the player recorded at time `value_at`\n",
    "- `league` and `season` are the league and season where the player is competing at time `value_at`. Season should refer to the second year of the season, but due to a bug in the recording of the data, this value is not always consistent, so it should not be used for predictions.\n",
    "\n",
    "- `age_years` is the age of the player, in days, at time `value_at`"
   ]
  },
  {
   "cell_type": "code",
   "execution_count": 4,
   "id": "b0340a8e",
   "metadata": {},
   "outputs": [
    {
     "data": {
      "text/html": [
       "<div>\n",
       "<style scoped>\n",
       "    .dataframe tbody tr th:only-of-type {\n",
       "        vertical-align: middle;\n",
       "    }\n",
       "\n",
       "    .dataframe tbody tr th {\n",
       "        vertical-align: top;\n",
       "    }\n",
       "\n",
       "    .dataframe thead th {\n",
       "        text-align: right;\n",
       "    }\n",
       "</style>\n",
       "<table border=\"1\" class=\"dataframe\">\n",
       "  <thead>\n",
       "    <tr style=\"text-align: right;\">\n",
       "      <th></th>\n",
       "      <th>player_id</th>\n",
       "      <th>birth</th>\n",
       "      <th>value</th>\n",
       "      <th>value_at</th>\n",
       "      <th>season</th>\n",
       "      <th>league</th>\n",
       "      <th>age_years</th>\n",
       "    </tr>\n",
       "  </thead>\n",
       "  <tbody>\n",
       "    <tr>\n",
       "      <th>5665</th>\n",
       "      <td>94308</td>\n",
       "      <td>1992-01-24</td>\n",
       "      <td>3.60</td>\n",
       "      <td>2018-06-30</td>\n",
       "      <td>2018</td>\n",
       "      <td>SPA1</td>\n",
       "      <td>27.430527</td>\n",
       "    </tr>\n",
       "    <tr>\n",
       "      <th>5667</th>\n",
       "      <td>139336</td>\n",
       "      <td>1992-01-08</td>\n",
       "      <td>2.70</td>\n",
       "      <td>2018-06-30</td>\n",
       "      <td>2018</td>\n",
       "      <td>SPA1</td>\n",
       "      <td>27.474333</td>\n",
       "    </tr>\n",
       "    <tr>\n",
       "      <th>5671</th>\n",
       "      <td>87469</td>\n",
       "      <td>1989-09-05</td>\n",
       "      <td>2.25</td>\n",
       "      <td>2018-06-30</td>\n",
       "      <td>2018</td>\n",
       "      <td>SPA1</td>\n",
       "      <td>29.815195</td>\n",
       "    </tr>\n",
       "    <tr>\n",
       "      <th>5674</th>\n",
       "      <td>266795</td>\n",
       "      <td>1993-03-27</td>\n",
       "      <td>2.25</td>\n",
       "      <td>2018-06-30</td>\n",
       "      <td>2018</td>\n",
       "      <td>SPA1</td>\n",
       "      <td>26.258727</td>\n",
       "    </tr>\n",
       "    <tr>\n",
       "      <th>5676</th>\n",
       "      <td>153427</td>\n",
       "      <td>1990-07-12</td>\n",
       "      <td>0.90</td>\n",
       "      <td>2018-06-30</td>\n",
       "      <td>2018</td>\n",
       "      <td>SPA1</td>\n",
       "      <td>28.966461</td>\n",
       "    </tr>\n",
       "  </tbody>\n",
       "</table>\n",
       "</div>"
      ],
      "text/plain": [
       "      player_id      birth  value   value_at  season league  age_years\n",
       "5665      94308 1992-01-24   3.60 2018-06-30    2018   SPA1  27.430527\n",
       "5667     139336 1992-01-08   2.70 2018-06-30    2018   SPA1  27.474333\n",
       "5671      87469 1989-09-05   2.25 2018-06-30    2018   SPA1  29.815195\n",
       "5674     266795 1993-03-27   2.25 2018-06-30    2018   SPA1  26.258727\n",
       "5676     153427 1990-07-12   0.90 2018-06-30    2018   SPA1  28.966461"
      ]
     },
     "execution_count": 4,
     "metadata": {},
     "output_type": "execute_result"
    }
   ],
   "source": [
    "values.loc[:,['player_id','birth','value','value_at','season','league','age_years']].head()"
   ]
  },
  {
   "cell_type": "markdown",
   "id": "ca53ae48",
   "metadata": {},
   "source": []
  }
 ],
 "metadata": {
  "kernelspec": {
   "display_name": "Python 3 (ipykernel)",
   "language": "python",
   "name": "python3"
  },
  "language_info": {
   "codemirror_mode": {
    "name": "ipython",
    "version": 3
   },
   "file_extension": ".py",
   "mimetype": "text/x-python",
   "name": "python",
   "nbconvert_exporter": "python",
   "pygments_lexer": "ipython3",
   "version": "3.9.5"
  }
 },
 "nbformat": 4,
 "nbformat_minor": 5
}
